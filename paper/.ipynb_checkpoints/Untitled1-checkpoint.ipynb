{
 "cells": [
  {
   "cell_type": "code",
   "execution_count": 51,
   "id": "d1b05315-dad4-40c4-8602-9430e9322828",
   "metadata": {},
   "outputs": [],
   "source": [
    "import numpy as np\n",
    "import copy\n",
    "\n",
    "def read_results(fname):\n",
    "    with open(fname, 'r') as f:\n",
    "        lines = [line.strip() for line in f]\n",
    "    return [\"\".join([str(x) for line in lines for x in line.split(\",\")])]"
   ]
  },
  {
   "cell_type": "code",
   "execution_count": 52,
   "id": "57a5b3bb-fe5d-4a61-abd6-7bff349efd0c",
   "metadata": {},
   "outputs": [],
   "source": [
    "def strip_all_zeros(results):\n",
    "    results = copy.deepcopy(results)\n",
    "    for i in range(len(results)):\n",
    "        for _ in range(5):\n",
    "            results[i] = results[i].replace(\"00\", \"0\")\n",
    "    return results\n",
    "\n",
    "def strip_5_zeros(results):\n",
    "    results = copy.deepcopy(results)\n",
    "    for i in range(len(results)):\n",
    "        results[i] = results[i].replace(\"00000\", \"0\")\n",
    "    return results\n",
    "\n",
    "def convert_to_numpy(s):\n",
    "    s = \"\".join(s)\n",
    "    return np.array([int(x) for x in s])"
   ]
  },
  {
   "cell_type": "code",
   "execution_count": 63,
   "id": "88f5def7-f1bd-4a5b-9f1a-b3d0c2f95d46",
   "metadata": {},
   "outputs": [
    {
     "data": {
      "text/plain": [
       "0.8333333333333334"
      ]
     },
     "execution_count": 63,
     "metadata": {},
     "output_type": "execute_result"
    }
   ],
   "source": [
    "np.mean(convert_to_numpy(strip_5_zeros(read_results('evaluation-sim-easy-teacher.csv'))))"
   ]
  },
  {
   "cell_type": "code",
   "execution_count": 64,
   "id": "5c449ac2-84d0-4c39-a4e6-3293ce59c930",
   "metadata": {},
   "outputs": [
    {
     "data": {
      "text/plain": [
       "0.8224163027656477"
      ]
     },
     "execution_count": 64,
     "metadata": {},
     "output_type": "execute_result"
    }
   ],
   "source": [
    "np.mean(convert_to_numpy(strip_5_zeros(read_results('evaluation-sim-easy-student.csv'))))"
   ]
  },
  {
   "cell_type": "code",
   "execution_count": null,
   "id": "fec0b698-44c0-4158-82ed-ca3833c7a240",
   "metadata": {},
   "outputs": [],
   "source": []
  }
 ],
 "metadata": {
  "kernelspec": {
   "display_name": "Python 3 (ipykernel)",
   "language": "python",
   "name": "python3"
  },
  "language_info": {
   "codemirror_mode": {
    "name": "ipython",
    "version": 3
   },
   "file_extension": ".py",
   "mimetype": "text/x-python",
   "name": "python",
   "nbconvert_exporter": "python",
   "pygments_lexer": "ipython3",
   "version": "3.10.8"
  }
 },
 "nbformat": 4,
 "nbformat_minor": 5
}
