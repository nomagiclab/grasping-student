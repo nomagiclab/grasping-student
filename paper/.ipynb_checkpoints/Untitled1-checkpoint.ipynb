{
 "cells": [
  {
   "cell_type": "code",
   "execution_count": 1,
   "id": "d1b05315-dad4-40c4-8602-9430e9322828",
   "metadata": {},
   "outputs": [],
   "source": [
    "import numpy as np\n",
    "import copy\n",
    "\n",
    "def read_results(fname):\n",
    "    with open(fname, 'r') as f:\n",
    "        lines = [line.strip() for line in f]\n",
    "    return [\",\".join([str(x) for line in lines for x in line.split(\",\")])]"
   ]
  },
  {
   "cell_type": "code",
   "execution_count": 2,
   "id": "57a5b3bb-fe5d-4a61-abd6-7bff349efd0c",
   "metadata": {},
   "outputs": [],
   "source": [
    "def strip_all_zeros(results):\n",
    "    results = copy.deepcopy(results)\n",
    "    for i in range(len(results)):\n",
    "        for _ in range(5):\n",
    "            results[i] = results[i].replace(\"00\", \"0\")\n",
    "    return results\n",
    "\n",
    "def strip_5_zeros(results):\n",
    "    results = copy.deepcopy(results)\n",
    "    for i in range(len(results)):\n",
    "        results[i] = results[i].replace(\"00000\", \"0\")\n",
    "    return results\n",
    "\n",
    "def convert_to_numpy(s):\n",
    "    s = \"\".join(s)\n",
    "    return np.array([float(x) for x in s.split(\",\")])"
   ]
  },
  {
   "cell_type": "code",
   "execution_count": 8,
   "id": "88f5def7-f1bd-4a5b-9f1a-b3d0c2f95d46",
   "metadata": {},
   "outputs": [
    {
     "data": {
      "text/plain": [
       "0.5996971814581877"
      ]
     },
     "execution_count": 8,
     "metadata": {},
     "output_type": "execute_result"
    }
   ],
   "source": [
    "np.mean(convert_to_numpy((read_results('sim-teacher-0.2.csv'))))"
   ]
  },
  {
   "cell_type": "code",
   "execution_count": 7,
   "id": "5c449ac2-84d0-4c39-a4e6-3293ce59c930",
   "metadata": {},
   "outputs": [
    {
     "data": {
      "text/plain": [
       "0.6777480052399667"
      ]
     },
     "execution_count": 9,
     "metadata": {},
     "output_type": "execute_result"
    }
   ],
   "source": [
    "np.mean(convert_to_numpy((read_results('sim-student-0.2.csv'))))"
   ]
  },
  {
   "cell_type": "code",
   "execution_count": 4,
   "id": "fec0b698-44c0-4158-82ed-ca3833c7a240",
   "metadata": {},
   "outputs": [
    {
     "data": {
      "text/plain": [
       "0.6496777973052138"
      ]
     },
     "execution_count": 4,
     "metadata": {},
     "output_type": "execute_result"
    }
   ],
   "source": [
    "np.mean(convert_to_numpy((read_results('evaluation-real-teacher.csv'))))"
   ]
  },
  {
   "cell_type": "code",
   "execution_count": 5,
   "id": "a70061b7-d9b3-4b79-9ca9-cd2afa293cca",
   "metadata": {},
   "outputs": [
    {
     "data": {
      "text/plain": [
       "0.789272030651341"
      ]
     },
     "execution_count": 5,
     "metadata": {},
     "output_type": "execute_result"
    }
   ],
   "source": [
    "np.mean(convert_to_numpy((read_results('evaluation-real-student.csv'))))"
   ]
  }
 ],
 "metadata": {
  "kernelspec": {
   "display_name": "Python 3 (ipykernel)",
   "language": "python",
   "name": "python3"
  },
  "language_info": {
   "codemirror_mode": {
    "name": "ipython",
    "version": 3
   },
   "file_extension": ".py",
   "mimetype": "text/x-python",
   "name": "python",
   "nbconvert_exporter": "python",
   "pygments_lexer": "ipython3",
   "version": "3.10.8"
  }
 },
 "nbformat": 4,
 "nbformat_minor": 5
}
